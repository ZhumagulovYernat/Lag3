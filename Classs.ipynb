{
 "cells": [
  {
   "cell_type": "code",
   "execution_count": 1,
   "metadata": {},
   "outputs": [
    {
     "name": "stdout",
     "output_type": "stream",
     "text": [
      "Строка в верхнем регистре: TRFSF\n"
     ]
    }
   ],
   "source": [
    "#1\n",
    "class StringInputAndOutput:\n",
    "    def __init__(self):\n",
    "        self.input_string = \"\"\n",
    "\n",
    "    def getString(self):\n",
    "        self.input_string = input(\"Введите строку: \")\n",
    "\n",
    "    def printString(self):\n",
    "        print(\"Строка в верхнем регистре:\", self.input_string.upper())\n",
    "\n",
    "\n",
    "string = StringInputAndOutput()\n",
    "string.getString()\n",
    "string.printString()"
   ]
  },
  {
   "cell_type": "code",
   "execution_count": 2,
   "metadata": {},
   "outputs": [
    {
     "name": "stdout",
     "output_type": "stream",
     "text": [
      "shape: 5\n",
      "square: 16\n"
     ]
    }
   ],
   "source": [
    "#2\n",
    "class Shape:\n",
    "    def __init__(self, length=0):\n",
    "        self.length = length\n",
    "        \n",
    "    def area(self):\n",
    "        return self.length\n",
    "\n",
    "class Square(Shape):\n",
    "    def __init__(self, length=0):\n",
    "        super().__init__(length)\n",
    "\n",
    "    def area(self):\n",
    "        return self.length * self.length\n",
    "\n",
    "shape = Shape(5)\n",
    "print(\"shape:\", shape.area())\n",
    "\n",
    "square = Square(4)\n",
    "print(\"square:\", square.area())"
   ]
  },
  {
   "cell_type": "code",
   "execution_count": 4,
   "metadata": {},
   "outputs": [],
   "source": [
    "#4\n",
    "import math\n",
    "\n",
    "class Point():\n",
    "    def __init__(self, x, y):\n",
    "        self.x = x\n",
    "        self.y = y\n",
    "\n",
    "    def show(self):\n",
    "        print(f'x={self.x}  y={self.y}')\n",
    "\n",
    "    def move(self, newx, newy):\n",
    "        self.x = newx\n",
    "        self.y = newy\n",
    "\n",
    "    def dist(self, other_point):\n",
    "        return math.sqrt((other_point.x - self.x)**2 + (other_point.y - self.y)**2)\n",
    "    "
   ]
  },
  {
   "cell_type": "code",
   "execution_count": 5,
   "metadata": {},
   "outputs": [
    {
     "name": "stdout",
     "output_type": "stream",
     "text": [
      "Депозит в размере 200.0 успешно выполнен. Новый баланс: 1200.0\n",
      "Снятие средств в размере 500.0 успешно выполнено. Новый баланс: 700.0\n"
     ]
    }
   ],
   "source": [
    "#5\n",
    "class Account:\n",
    "    def __init__(self, owner, balance=0.0):\n",
    "        self.owner = owner\n",
    "        self.balance = balance\n",
    "\n",
    "    def deposit(self, amount):\n",
    "        if amount > 0:\n",
    "            self.balance += amount\n",
    "            print(f\"Депозит в размере {amount} успешно выполнен. Новый баланс: {self.balance}\")\n",
    "        else:\n",
    "            print(\"Неверная сумма для депозита. Депозит не выполнен.\")\n",
    "\n",
    "    def withdraw(self, amount):\n",
    "        if 0 < amount <= self.balance:\n",
    "            self.balance -= amount\n",
    "            print(f\"Снятие средств в размере {amount} успешно выполнено. Новый баланс: {self.balance}\")\n",
    "        else:\n",
    "            print(\"Неверная сумма для снятия.\" if amount <= 0 else \"Недостаточно средств для снятия.\")\n",
    "\n",
    "\n",
    "owner_name = input(\"Введите имя владельца счета: \")\n",
    "initial_balance = float(input(\"Введите начальный баланс: \"))\n",
    "\n",
    "account = Account(owner=owner_name, balance=initial_balance)\n",
    "\n",
    "while True:\n",
    "    action = input(\"Выберите действие (deposit/withdraw/exit): \").lower()\n",
    "\n",
    "    if action == 'deposit':\n",
    "        account.deposit(float(input(\"Введите сумму для депозита: \")))\n",
    "    elif action == 'withdraw':\n",
    "        account.withdraw(float(input(\"Введите сумму для снятия: \")))\n",
    "    elif action == 'exit':\n",
    "        break\n",
    "    else:\n",
    "        print(\"Неверное действие. Попробуйте снова.\")"
   ]
  },
  {
   "cell_type": "code",
   "execution_count": 7,
   "metadata": {},
   "outputs": [
    {
     "name": "stdout",
     "output_type": "stream",
     "text": [
      "Prime numbers: [2, 3, 5, 7]\n"
     ]
    }
   ],
   "source": [
    "#6\n",
    "class PrimeFilter:\n",
    "    def __init__(self, numbers):\n",
    "        self.numbers = numbers\n",
    "\n",
    "    def is_prime(self, n):\n",
    "        if n < 2:\n",
    "            return False\n",
    "        for i in range(2, int(n**0.5) + 1):\n",
    "            if n % i == 0:\n",
    "                return False\n",
    "        return True\n",
    "\n",
    "    def filter_primes(self):\n",
    "        return list(filter(lambda x: self.is_prime(x), self.numbers))\n",
    "\n",
    "\n",
    "numbers = [1, 2, 3, 4, 5, 6, 7, 8, 9, 10]\n",
    "prime_filter = PrimeFilter(numbers)\n",
    "prime_numbers = prime_filter.filter_primes()\n",
    "\n",
    "print(\"Prime numbers:\", prime_numbers)\n"
   ]
  },
  {
   "cell_type": "code",
   "execution_count": 3,
   "metadata": {},
   "outputs": [
    {
     "name": "stdout",
     "output_type": "stream",
     "text": [
      "rectangle:  20\n"
     ]
    }
   ],
   "source": [
    "#3\n",
    "class Rectangle(Shape):\n",
    "    def __init__(self, length, width):\n",
    "        super().__init__()\n",
    "        self.length = length\n",
    "        self.width = width\n",
    "\n",
    "    def area(self):\n",
    "        return self.width * self.length\n",
    "    \n",
    "rectangl = Rectangle(4, 5)\n",
    "print('rectangle: ', rectangl.area())"
   ]
  }
 ],
 "metadata": {
  "kernelspec": {
   "display_name": "Python 3",
   "language": "python",
   "name": "python3"
  },
  "language_info": {
   "codemirror_mode": {
    "name": "ipython",
    "version": 3
   },
   "file_extension": ".py",
   "mimetype": "text/x-python",
   "name": "python",
   "nbconvert_exporter": "python",
   "pygments_lexer": "ipython3",
   "version": "3.11.9"
  }
 },
 "nbformat": 4,
 "nbformat_minor": 2
}
