{
 "cells": [
  {
   "cell_type": "code",
   "execution_count": 3,
   "metadata": {},
   "outputs": [
    {
     "name": "stdout",
     "output_type": "stream",
     "text": [
      "2151.54 грамы в унциях 60995.132930574\n"
     ]
    }
   ],
   "source": [
    "#1\n",
    "def gramy_ounce(grams):\n",
    "    ounce = 28.3495231 * grams\n",
    "    return ounce\n",
    "\n",
    "grams_a = float(input())\n",
    "ounce_a = gramy_ounce(grams_a)\n",
    "print(f\"{grams_a} грамы в унциях {ounce_a}\")"
   ]
  },
  {
   "cell_type": "code",
   "execution_count": 4,
   "metadata": {},
   "outputs": [
    {
     "name": "stdout",
     "output_type": "stream",
     "text": [
      "Из фаренгейт 4553.45 в цельсий 2511.9166666666665\n"
     ]
    }
   ],
   "source": [
    "#2\n",
    "def  v_Celcius(Farengeit):\n",
    "    celcuis = (5 / 9) * (farengeit -32)\n",
    "    return celcuis\n",
    "farengeit = float(input())\n",
    "celcuis_gradus = v_Celcius(farengeit)\n",
    "print(f\"Из фаренгейт {farengeit} в цельсий {celcuis_gradus}\")"
   ]
  },
  {
   "cell_type": "code",
   "execution_count": 5,
   "metadata": {},
   "outputs": [
    {
     "name": "stdout",
     "output_type": "stream",
     "text": [
      "курицы 3.0 кролики-1.0\n"
     ]
    },
    {
     "data": {
      "text/plain": [
       "'\\nголовы куриц = x\\nноги = 2\\nвсего ног 2x\\n\\nголовы кроликов \\n35 - x \\nног 4\\nвсего ног 4*(35-x)\\n\\n'"
      ]
     },
     "execution_count": 5,
     "metadata": {},
     "output_type": "execute_result"
    }
   ],
   "source": [
    "#3\n",
    "def Chiken_Rabbit(numheads, numlegs):\n",
    "    colvo_rab = (heads*2 - legs)/-2\n",
    "    colvo_chic = heads - colvo_rab\n",
    "    return colvo_chic, colvo_rab\n",
    "\n",
    "heads = int(input())\n",
    "legs = int(input())\n",
    "colvo_chic, colvo_rab = Chiken_Rabbit(heads, legs)\n",
    "print(f'курицы {colvo_chic} кролики{colvo_rab}')\n",
    "\n",
    "\"\"\"\n",
    "головы куриц = x\n",
    "ноги = 2\n",
    "всего ног 2x\n",
    "\n",
    "головы кроликов \n",
    "35 - x \n",
    "ног 4\n",
    "всего ног 4*(35-x)\n",
    "\n",
    "\"\"\""
   ]
  },
  {
   "cell_type": "code",
   "execution_count": 6,
   "metadata": {},
   "outputs": [
    {
     "name": "stdout",
     "output_type": "stream",
     "text": [
      "Простые числа: [2, 3, 5]\n"
     ]
    }
   ],
   "source": [
    "#4\n",
    "def is_prime(num):\n",
    "    if num < 2:\n",
    "        return False\n",
    "    for i in range(2, int(num**0.5) + 1):\n",
    "        if num % i == 0:\n",
    "            return False\n",
    "    return True\n",
    "\n",
    "def filter_prime():\n",
    "    input_num = input(\"Введите числа, разделенные пробелами: \")\n",
    "    numbers_list = [int(num) for num in input_num.split()]\n",
    "    primes = list(filter(is_prime, numbers_list))\n",
    "    return primes\n",
    "\n",
    "result = filter_prime()\n",
    "print(\"Простые числа:\", result)"
   ]
  },
  {
   "cell_type": "code",
   "execution_count": 8,
   "metadata": {},
   "outputs": [
    {
     "name": "stdout",
     "output_type": "stream",
     "text": [
      "Перестановка строки:\n",
      "a b s\n",
      "a s b\n",
      "b a s\n",
      "b s a\n",
      "s a b\n",
      "s b a\n"
     ]
    }
   ],
   "source": [
    "#5\n",
    "from itertools import permutations\n",
    "\n",
    "def print_permutations(input_string):\n",
    "    print(\"Перестановка строки:\")\n",
    "    for permuted_string in permutations(input_string):\n",
    "        print(' '.join(permuted_string))\n",
    "\n",
    "user_input = input(\"Введите строку: \")\n",
    "print_permutations(user_input)"
   ]
  },
  {
   "cell_type": "code",
   "execution_count": 10,
   "metadata": {},
   "outputs": [
    {
     "name": "stdout",
     "output_type": "stream",
     "text": [
      "Результат: third second first\n"
     ]
    }
   ],
   "source": [
    "#6\n",
    "def reverse_words(sentence):\n",
    "    words = sentence.split()\n",
    "    reversed_sentence = ' '.join(reversed(words))\n",
    "    return reversed_sentence\n",
    "\n",
    "user_word = input(\"Введите предложение: \")\n",
    "result = reverse_words(user_word)\n",
    "print(\"Результат:\", result)"
   ]
  },
  {
   "cell_type": "code",
   "execution_count": 13,
   "metadata": {},
   "outputs": [
    {
     "name": "stdout",
     "output_type": "stream",
     "text": [
      "True\n"
     ]
    }
   ],
   "source": [
    "#7\n",
    "def has_33(nums):\n",
    "    for i in range(len(nums) - 1):\n",
    "        if nums[i] == 3 and nums[i + 1] == 3:\n",
    "            return True\n",
    "    return False\n",
    "\n",
    "user_input = input(\"Введите массив чисел, разделенных пробелами: \")\n",
    "numbers = [int(num) for num in user_input.split()]\n",
    "\n",
    "result = has_33(numbers)\n",
    "print(result)"
   ]
  },
  {
   "cell_type": "code",
   "execution_count": 16,
   "metadata": {},
   "outputs": [
    {
     "name": "stdout",
     "output_type": "stream",
     "text": [
      "True\n"
     ]
    }
   ],
   "source": [
    "#8\n",
    "def spy_game(nums):\n",
    "    spy_code = [0, 0, 7]\n",
    "    \n",
    "    for num in nums:\n",
    "        if num == spy_code[0]:\n",
    "            spy_code.pop(0)\n",
    "        if not spy_code:\n",
    "            return True\n",
    "    return False\n",
    "\n",
    "user_input = input(\"Введите массив чисел, разделенных пробелами: \")\n",
    "numbers = [int(num) for num in user_input.split()]\n",
    "\n",
    "result = spy_game(numbers)\n",
    "print(result)"
   ]
  },
  {
   "cell_type": "code",
   "execution_count": 18,
   "metadata": {},
   "outputs": [
    {
     "name": "stdout",
     "output_type": "stream",
     "text": [
      "Объем данной сферы составляет 4.1887902047863905\n"
     ]
    }
   ],
   "source": [
    "#9\n",
    "import math\n",
    "\n",
    "def volume_sphere(radius):\n",
    "    volume = (4/3) * math.pi * radius**3\n",
    "    return volume\n",
    "\n",
    "radius = float(input(\"Введите радиус сферы: \"))\n",
    "result = volume_sphere(radius)\n",
    "print(f\"Объем данной сферы составляет {result}\")"
   ]
  },
  {
   "cell_type": "code",
   "execution_count": 19,
   "metadata": {},
   "outputs": [
    {
     "name": "stdout",
     "output_type": "stream",
     "text": [
      "Исходный список: [5, 4, 7, 8, 9, 5]\n",
      "Список уникальных элементов: [5, 4, 7, 8, 9]\n"
     ]
    }
   ],
   "source": [
    "#10\n",
    "def unique_elements(input_list):\n",
    "    unique_list = []\n",
    "    for element in input_list:\n",
    "        if element not in unique_list:\n",
    "            unique_list.append(element)\n",
    "    return unique_list\n",
    "\n",
    "user_input = input(\"Введите список чисел, разделенных пробелами: \")\n",
    "input_list = [int(num) for num in user_input.split()]\n",
    "\n",
    "result = unique_elements(input_list)\n",
    "\n",
    "print(\"Исходный список:\", input_list)\n",
    "print(\"Список уникальных элементов:\", result)"
   ]
  },
  {
   "cell_type": "code",
   "execution_count": 20,
   "metadata": {},
   "outputs": [
    {
     "name": "stdout",
     "output_type": "stream",
     "text": [
      "Это палиндром.\n"
     ]
    }
   ],
   "source": [
    "#11\n",
    "def is_palindrome(s):\n",
    "    s = ''.join(char.lower() for char in s if char.isalnum())\n",
    "    return s == s[::-1]\n",
    "\n",
    "user_input = input(\"Введите слово или фразу: \")\n",
    "\n",
    "result = is_palindrome(user_input)\n",
    "\n",
    "if result:\n",
    "    print(\"Это палиндром.\")\n",
    "else:\n",
    "    print(\"Это не палиндром.\")"
   ]
  },
  {
   "cell_type": "code",
   "execution_count": null,
   "metadata": {},
   "outputs": [],
   "source": [
    "#12\n",
    "def histogram(numbers=None):\n",
    "    if numbers is None:\n",
    "        print(\"histogram()\")\n",
    "        return\n",
    "\n",
    "    for num in numbers:\n",
    "        print('*' * num)\n",
    "\n",
    "\n",
    "user_input = input(\"Введите массив чисел, разделенных пробелами: \")\n",
    "numbers = [int(num) for num in user_input.split()]\n",
    "\n",
    "histogram(numbers)"
   ]
  }
 ],
 "metadata": {
  "kernelspec": {
   "display_name": "Python 3",
   "language": "python",
   "name": "python3"
  },
  "language_info": {
   "codemirror_mode": {
    "name": "ipython",
    "version": 3
   },
   "file_extension": ".py",
   "mimetype": "text/x-python",
   "name": "python",
   "nbconvert_exporter": "python",
   "pygments_lexer": "ipython3",
   "version": "3.11.9"
  }
 },
 "nbformat": 4,
 "nbformat_minor": 2
}
